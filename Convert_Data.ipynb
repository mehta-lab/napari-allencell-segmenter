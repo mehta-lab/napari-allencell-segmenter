{
 "cells": [
  {
   "cell_type": "code",
   "execution_count": 6,
   "id": "4903ceed",
   "metadata": {},
   "outputs": [],
   "source": [
    "from waveorder.io.writer import WaveorderWriter\n",
    "from infectedcell_annotator.functions import gather_image_information_opencell, gather_image_information, load_image_stack\n",
    "import pandas as pd\n",
    "import tifffile as tiff"
   ]
  },
  {
   "cell_type": "markdown",
   "id": "83c6566a",
   "metadata": {},
   "source": [
    "# InfectedCell Datasets\n",
    "\n",
    "### Convert raw data to ome-zarr"
   ]
  },
  {
   "cell_type": "code",
   "execution_count": 8,
   "id": "4260304f",
   "metadata": {},
   "outputs": [],
   "source": [
    "raw_data_dir = '/Volumes/ml_group/opencell-infection-microscopy/TICM0009-1/raw_data'\n",
    "save_dir = '/Volumes/ml_group/opencell-infection-microscopy/TICM0009-1/data_convert_test'\n",
    "plate_map_path = '/Volumes/ml_group/opencell-infection-microscopy/TICM0009-1/TICM0009-1 Platemap.csv'\n",
    "opencell = True # set to false if this is timelapse data acquired with MDA\n",
    "\n",
    "plate_map = pd.read_csv(plate_map_path)\n",
    "writer = WaveorderWriter(save_dir)"
   ]
  },
  {
   "cell_type": "code",
   "execution_count": 10,
   "id": "790d329e",
   "metadata": {},
   "outputs": [
    {
     "name": "stdout",
     "output_type": "stream",
     "text": [
      "Creating new zarr store at /Volumes/ml_group/opencell-infection-microscopy/TICM0009-1/data_convert_test/RAC1_Mock.zarr\n",
      "Creating new zarr store at /Volumes/ml_group/opencell-infection-microscopy/TICM0009-1/data_convert_test/RAC1_Infected.zarr\n",
      "Creating new zarr store at /Volumes/ml_group/opencell-infection-microscopy/TICM0009-1/data_convert_test/TOMM70_Mock.zarr\n",
      "Creating new zarr store at /Volumes/ml_group/opencell-infection-microscopy/TICM0009-1/data_convert_test/TOMM70_Infected.zarr\n",
      "Creating new zarr store at /Volumes/ml_group/opencell-infection-microscopy/TICM0009-1/data_convert_test/NPM1_Mock.zarr\n",
      "Creating new zarr store at /Volumes/ml_group/opencell-infection-microscopy/TICM0009-1/data_convert_test/NPM1_Infected.zarr\n"
     ]
    },
    {
     "ename": "KeyboardInterrupt",
     "evalue": "",
     "output_type": "error",
     "traceback": [
      "\u001b[0;31m---------------------------------------------------------------------------\u001b[0m",
      "\u001b[0;31mKeyboardInterrupt\u001b[0m                         Traceback (most recent call last)",
      "\u001b[0;32m/var/folders/8h/q_gh3d6144n_fkcs7v__cy3m0000gp/T/ipykernel_14325/594089832.py\u001b[0m in \u001b[0;36m<module>\u001b[0;34m\u001b[0m\n\u001b[1;32m     49\u001b[0m     \u001b[0;32mfor\u001b[0m \u001b[0mfov_inf\u001b[0m \u001b[0;32min\u001b[0m \u001b[0mexperiment_dict\u001b[0m\u001b[0;34m[\u001b[0m\u001b[0mlabel\u001b[0m\u001b[0;34m]\u001b[0m\u001b[0;34m[\u001b[0m\u001b[0;34m'Infected'\u001b[0m\u001b[0;34m]\u001b[0m\u001b[0;34m[\u001b[0m\u001b[0;34m'FOVs'\u001b[0m\u001b[0;34m]\u001b[0m\u001b[0;34m:\u001b[0m\u001b[0;34m\u001b[0m\u001b[0;34m\u001b[0m\u001b[0m\n\u001b[1;32m     50\u001b[0m \u001b[0;34m\u001b[0m\u001b[0m\n\u001b[0;32m---> 51\u001b[0;31m         \u001b[0mstack\u001b[0m \u001b[0;34m=\u001b[0m \u001b[0mload_image_stack\u001b[0m\u001b[0;34m(\u001b[0m\u001b[0mfov_mock\u001b[0m\u001b[0;34m[\u001b[0m\u001b[0;34m'file_path'\u001b[0m\u001b[0;34m]\u001b[0m\u001b[0;34m,\u001b[0m \u001b[0mgfp_idx\u001b[0m\u001b[0;34m,\u001b[0m \u001b[0mdapi_idx\u001b[0m\u001b[0;34m,\u001b[0m \u001b[0mopencell\u001b[0m\u001b[0;34m)\u001b[0m\u001b[0;34m\u001b[0m\u001b[0;34m\u001b[0m\u001b[0m\n\u001b[0m\u001b[1;32m     52\u001b[0m \u001b[0;34m\u001b[0m\u001b[0m\n\u001b[1;32m     53\u001b[0m         \u001b[0mdata_shape\u001b[0m \u001b[0;34m=\u001b[0m \u001b[0;34m(\u001b[0m\u001b[0;36m1\u001b[0m\u001b[0;34m,\u001b[0m \u001b[0;36m2\u001b[0m\u001b[0;34m,\u001b[0m \u001b[0mstack\u001b[0m\u001b[0;34m.\u001b[0m\u001b[0mshape\u001b[0m\u001b[0;34m[\u001b[0m\u001b[0;34m-\u001b[0m\u001b[0;36m3\u001b[0m\u001b[0;34m]\u001b[0m\u001b[0;34m,\u001b[0m \u001b[0mstack\u001b[0m\u001b[0;34m.\u001b[0m\u001b[0mshape\u001b[0m\u001b[0;34m[\u001b[0m\u001b[0;34m-\u001b[0m\u001b[0;36m2\u001b[0m\u001b[0;34m]\u001b[0m\u001b[0;34m,\u001b[0m \u001b[0mstack\u001b[0m\u001b[0;34m.\u001b[0m\u001b[0mshape\u001b[0m\u001b[0;34m[\u001b[0m\u001b[0;34m-\u001b[0m\u001b[0;36m1\u001b[0m\u001b[0;34m]\u001b[0m\u001b[0;34m)\u001b[0m\u001b[0;34m\u001b[0m\u001b[0;34m\u001b[0m\u001b[0m\n",
      "\u001b[0;32m~/InfectedCellMicroscopyAnnotator/infectedcell_annotator/functions.py\u001b[0m in \u001b[0;36mload_image_stack\u001b[0;34m(file_path, gfp_chan, dapi_chan, opencell)\u001b[0m\n\u001b[1;32m    236\u001b[0m         \u001b[0mstack\u001b[0m \u001b[0;34m=\u001b[0m \u001b[0;34m[\u001b[0m\u001b[0;34m]\u001b[0m\u001b[0;34m\u001b[0m\u001b[0;34m\u001b[0m\u001b[0m\n\u001b[1;32m    237\u001b[0m         \u001b[0;32mfor\u001b[0m \u001b[0mi\u001b[0m \u001b[0;32min\u001b[0m \u001b[0mrange\u001b[0m\u001b[0;34m(\u001b[0m\u001b[0mlen\u001b[0m\u001b[0;34m(\u001b[0m\u001b[0mtf\u001b[0m\u001b[0;34m.\u001b[0m\u001b[0mpages\u001b[0m\u001b[0;34m)\u001b[0m\u001b[0;34m)\u001b[0m\u001b[0;34m:\u001b[0m\u001b[0;34m\u001b[0m\u001b[0;34m\u001b[0m\u001b[0m\n\u001b[0;32m--> 238\u001b[0;31m             \u001b[0mstack\u001b[0m\u001b[0;34m.\u001b[0m\u001b[0mappend\u001b[0m\u001b[0;34m(\u001b[0m\u001b[0mtf\u001b[0m\u001b[0;34m.\u001b[0m\u001b[0mpages\u001b[0m\u001b[0;34m[\u001b[0m\u001b[0mi\u001b[0m\u001b[0;34m]\u001b[0m\u001b[0;34m.\u001b[0m\u001b[0masarray\u001b[0m\u001b[0;34m(\u001b[0m\u001b[0;34m)\u001b[0m\u001b[0;34m)\u001b[0m\u001b[0;34m\u001b[0m\u001b[0;34m\u001b[0m\u001b[0m\n\u001b[0m\u001b[1;32m    239\u001b[0m \u001b[0;34m\u001b[0m\u001b[0m\n\u001b[1;32m    240\u001b[0m         \u001b[0mstack\u001b[0m \u001b[0;34m=\u001b[0m \u001b[0mnp\u001b[0m\u001b[0;34m.\u001b[0m\u001b[0masarray\u001b[0m\u001b[0;34m(\u001b[0m\u001b[0mstack\u001b[0m\u001b[0;34m)\u001b[0m\u001b[0;34m\u001b[0m\u001b[0;34m\u001b[0m\u001b[0m\n",
      "\u001b[0;32m~/opt/anaconda3/envs/aics/lib/python3.7/site-packages/tifffile/tifffile.py\u001b[0m in \u001b[0;36masarray\u001b[0;34m(self, out, squeeze, lock, maxworkers)\u001b[0m\n\u001b[1;32m   6781\u001b[0m                     \u001b[0mkeyframe\u001b[0m\u001b[0;34m.\u001b[0m\u001b[0mparent\u001b[0m\u001b[0;34m.\u001b[0m\u001b[0mbyteorder\u001b[0m \u001b[0;34m+\u001b[0m \u001b[0mkeyframe\u001b[0m\u001b[0;34m.\u001b[0m\u001b[0m_dtype\u001b[0m\u001b[0;34m.\u001b[0m\u001b[0mchar\u001b[0m\u001b[0;34m,\u001b[0m\u001b[0;34m\u001b[0m\u001b[0;34m\u001b[0m\u001b[0m\n\u001b[1;32m   6782\u001b[0m                     \u001b[0mproduct\u001b[0m\u001b[0;34m(\u001b[0m\u001b[0mkeyframe\u001b[0m\u001b[0;34m.\u001b[0m\u001b[0mshaped\u001b[0m\u001b[0;34m)\u001b[0m\u001b[0;34m,\u001b[0m\u001b[0;34m\u001b[0m\u001b[0;34m\u001b[0m\u001b[0m\n\u001b[0;32m-> 6783\u001b[0;31m                     \u001b[0mout\u001b[0m\u001b[0;34m=\u001b[0m\u001b[0mout\u001b[0m\u001b[0;34m,\u001b[0m\u001b[0;34m\u001b[0m\u001b[0;34m\u001b[0m\u001b[0m\n\u001b[0m\u001b[1;32m   6784\u001b[0m                 )\n\u001b[1;32m   6785\u001b[0m             \u001b[0;32mif\u001b[0m \u001b[0mkeyframe\u001b[0m\u001b[0;34m.\u001b[0m\u001b[0mfillorder\u001b[0m \u001b[0;34m==\u001b[0m \u001b[0;36m2\u001b[0m\u001b[0;34m:\u001b[0m\u001b[0;34m\u001b[0m\u001b[0;34m\u001b[0m\u001b[0m\n",
      "\u001b[0;32m~/opt/anaconda3/envs/aics/lib/python3.7/site-packages/tifffile/tifffile.py\u001b[0m in \u001b[0;36mread_array\u001b[0;34m(self, dtype, count, out)\u001b[0m\n\u001b[1;32m  10591\u001b[0m \u001b[0;34m\u001b[0m\u001b[0m\n\u001b[1;32m  10592\u001b[0m         \u001b[0;32mtry\u001b[0m\u001b[0;34m:\u001b[0m\u001b[0;34m\u001b[0m\u001b[0;34m\u001b[0m\u001b[0m\n\u001b[0;32m> 10593\u001b[0;31m             \u001b[0mn\u001b[0m \u001b[0;34m=\u001b[0m \u001b[0mself\u001b[0m\u001b[0;34m.\u001b[0m\u001b[0m_fh\u001b[0m\u001b[0;34m.\u001b[0m\u001b[0mreadinto\u001b[0m\u001b[0;34m(\u001b[0m\u001b[0mresult\u001b[0m\u001b[0;34m)\u001b[0m\u001b[0;34m\u001b[0m\u001b[0;34m\u001b[0m\u001b[0m\n\u001b[0m\u001b[1;32m  10594\u001b[0m         \u001b[0;32mexcept\u001b[0m \u001b[0mAttributeError\u001b[0m\u001b[0;34m:\u001b[0m\u001b[0;34m\u001b[0m\u001b[0;34m\u001b[0m\u001b[0m\n\u001b[1;32m  10595\u001b[0m             result[:] = numpy.frombuffer(self._fh.read(nbytes), dtype).reshape(\n",
      "\u001b[0;31mKeyboardInterrupt\u001b[0m: "
     ]
    }
   ],
   "source": [
    "if opencell:\n",
    "    gfp_idx = 1\n",
    "    dapi_idx = 0\n",
    "    plate_map = pd.read_csv(plate_map_path)\n",
    "    experiment_dict = gather_image_information_opencell(raw_data_dir, plate_map)\n",
    "    labels = list(experiment_dict.keys())\n",
    "else:\n",
    "    experiment_dict = gather_image_information(raw_data_dir)\n",
    "    labels = list(experiment_dict.keys())\n",
    "\n",
    "    sub_dict = experiment_dict[labels[0]]\n",
    "    fp = sub_dict[list(sub_dict.keys())[0]]['FOVs'][0]['file_path']\n",
    "\n",
    "    meta = tiff.TiffFile(fp).micromanager_metadata\n",
    "    for idx, chan in enumerate(meta['Summary']['ChNames']):\n",
    "        if 'GFP' in chan:\n",
    "            gfp_idx = idx\n",
    "        elif 'DAPI' in chan:\n",
    "            dapi_idx = idx\n",
    "        else:\n",
    "            continue\n",
    "\n",
    "for label in labels:\n",
    "    \n",
    "    writer.create_zarr_root(label+'_Mock.zarr')\n",
    "    \n",
    "    for fov_mock in experiment_dict[label]['Mock']['FOVs']:\n",
    "        \n",
    "        stack = load_image_stack(fov_mock['file_path'], gfp_idx, dapi_idx, opencell)\n",
    "        \n",
    "        data_shape = (1, 2, stack.shape[-3], stack.shape[-2], stack.shape[-1])\n",
    "        chunk_size = (1, 1, 1, stack.shape[-2], stack.shape[-1])\n",
    "        chan_names = ['GFP', 'DAPI']\n",
    "        dtype = stack.dtype\n",
    "\n",
    "        name = f'{label}_Mock_FOV{fov_mock[\"FOV\"]}'\n",
    "        \n",
    "        writer.init_array(position=fov_mock[\"FOV\"],\n",
    "                         data_shape=data_shape,\n",
    "                         chunk_size=chunk_size,\n",
    "                         chan_names=chan_names,\n",
    "                         position_name=name)\n",
    "        \n",
    "        writer.write(stack, p=fov_mock[\"FOV\"], t=0)\n",
    "\n",
    "    \n",
    "    writer.create_zarr_root(label+'_Infected.zarr')\n",
    "\n",
    "    for fov_inf in experiment_dict[label]['Infected']['FOVs']:\n",
    "        \n",
    "        stack = load_image_stack(fov_mock['file_path'], gfp_idx, dapi_idx, opencell)\n",
    "        \n",
    "        data_shape = (1, 2, stack.shape[-3], stack.shape[-2], stack.shape[-1])\n",
    "        chunk_size = (1, 1, 1, stack.shape[-2], stack.shape[-1])\n",
    "        chan_names = ['GFP', 'DAPI']\n",
    "        dtype = stack.dtype\n",
    "\n",
    "        name = f'{label}_Infected_FOV{fov_inf[\"FOV\"]}'\n",
    "        \n",
    "        writer.init_array(position=fov_inf[\"FOV\"],\n",
    "                         data_shape=data_shape,\n",
    "                         chunk_size=chunk_size,\n",
    "                         chan_names=chan_names,\n",
    "                         position_name=name)\n",
    "        \n",
    "        writer.write(stack, p=fov_inf[\"FOV\"], t=0)"
   ]
  },
  {
   "cell_type": "markdown",
   "id": "26d072ba",
   "metadata": {},
   "source": [
    "### Convert raw data to tiff stacks"
   ]
  },
  {
   "cell_type": "code",
   "execution_count": null,
   "id": "c949c72c",
   "metadata": {},
   "outputs": [],
   "source": [
    "raw_data_dir = '/Volumes/ml_group/opencell-infection-microscopy/TICM0009-1/raw_data'\n",
    "save_dir = '/Volumes/ml_group/opencell-infection-microscopy/TICM0009-1/data_convert_test/Tiffs'\n",
    "plate_map_path = '/Volumes/ml_group/opencell-infection-microscopy/TICM0009-1/TICM0009-1 Platemap.csv'\n",
    "opencell = True\n",
    "\n",
    "plate_map = pd.read_csv(plate_map_path)"
   ]
  },
  {
   "cell_type": "code",
   "execution_count": null,
   "id": "5dcc8e9f",
   "metadata": {},
   "outputs": [],
   "source": [
    "if opencell:\n",
    "    gfp_idx = 1\n",
    "    dapi_idx = 0\n",
    "    plate_map = pd.read_csv(plate_map_path)\n",
    "    experiment_dict = gather_image_information_opencell(raw_data_dir, plate_map)\n",
    "    labels = list(experiment_dict.keys())\n",
    "else:\n",
    "    experiment_dict = gather_image_information(raw_data_dir)\n",
    "    labels = list(experiment_dict.keys())\n",
    "\n",
    "    sub_dict = experiment_dict[labels[0]]\n",
    "    fp = sub_dict[list(sub_dict.keys())[0]]['FOVs'][0]['file_path']\n",
    "\n",
    "    meta = tiff.TiffFile(fp).micromanager_metadata\n",
    "    for idx, chan in enumerate(meta['Summary']['ChNames']):\n",
    "        if 'GFP' in chan:\n",
    "            gfp_idx = idx\n",
    "        elif 'DAPI' in chan:\n",
    "            dapi_idx = idx\n",
    "        else:\n",
    "            continue\n",
    "\n",
    "for label in labels:\n",
    "        \n",
    "    for fov_mock in experiment_dict[label]['Mock']['FOVs']:\n",
    "        \n",
    "        stack = load_image_stack(fov_mock['file_path'], gfp_idx, dapi_idx, opencell)\n",
    "\n",
    "        name = f'{label}_Mock_FOV{fov_mock[\"FOV\"]}.tif'\n",
    "        \n",
    "        tiff.imsave(os.path.join(save_dir, name), stack)\n",
    "    \n",
    "    for fov_inf in experiment_dict[label]['Infected']['FOVs']:\n",
    "        \n",
    "        stack = load_image_stack(fov_mock['file_path'], gfp_idx, dapi_idx, opencell)\n",
    "\n",
    "        name = f'{label}_Infected_FOV{fov_inf[\"FOV\"]}'\n",
    "        \n",
    "        tiff.imsave(os.path.join(save_dir, name), stack)"
   ]
  }
 ],
 "metadata": {
  "kernelspec": {
   "display_name": "Python 3 (ipykernel)",
   "language": "python",
   "name": "python3"
  },
  "language_info": {
   "codemirror_mode": {
    "name": "ipython",
    "version": 3
   },
   "file_extension": ".py",
   "mimetype": "text/x-python",
   "name": "python",
   "nbconvert_exporter": "python",
   "pygments_lexer": "ipython3",
   "version": "3.7.12"
  }
 },
 "nbformat": 4,
 "nbformat_minor": 5
}
